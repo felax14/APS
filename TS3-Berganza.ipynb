{
 "cells": [
  {
   "cell_type": "markdown",
   "id": "b3147b9a-1759-4b0a-9f06-b037682ffc23",
   "metadata": {},
   "source": [
    "# TS3: Análisis de Fourier: FFT, desparramo, interpolación y ventaneo.\n",
    "\n",
    "## Alumno: Felipe Berganza"
   ]
  },
  {
   "cell_type": "markdown",
   "id": "fa364de7-afe0-4f4f-935b-77459252794a",
   "metadata": {},
   "source": [
    "# RESUMEN\n",
    "\n",
    "En el TS3 analizaremos la Transformada Rápida de Fourier (FFT) de una senal senoidal viendo asi el desaparramo espectral que genera dicho efecto de calcularla.\n"
   ]
  },
  {
   "cell_type": "markdown",
   "id": "211227ff-0e6e-4691-b2b1-7797d7640891",
   "metadata": {},
   "source": [
    "# INTRODUCCION \n",
    "\n",
    "## Transformada Rápida de Fourier (FFT) \n",
    "\n",
    "es un algoritmo que permite calcular de forma eficiente la Transformada Discreta de Fourier (DFT) de una señal digital.Convierte una señal del dominio del tiempo  al dominio de la frecuencia y asi poder analizar mejor que frecuencia  predomina en la senal y su analisis espectral.\n",
    "\n",
    "## Desparramo Espectral \n",
    "\n",
    "Ocurre cuando una señal no es periódica en la ventana de análisis. Genera energía fuera de las frecuencias reales, “ensuciando” el espectro.\n",
    "\n",
    "## Interpolacion Espectral \n",
    "\n",
    "Técnica para estimar con mayor precisión la frecuencia de componentes entre bins de la FFT. Mejora la resolución sin aumentar el tamaño de la FFT.\n",
    "\n",
    "## Ventaneo \n",
    "\n",
    "Aplicar una ventana (como Hamming o Hann) antes de la FFT reduce el desparramo. Atenúa los bordes de la señal para mejorar la representación espectral.\n"
   ]
  },
  {
   "cell_type": "markdown",
   "id": "0e98bf12-4b34-472d-95ae-bb7fd0cdeacc",
   "metadata": {},
   "source": [
    "# CONSIGNA 1 \n",
    "\n",
    "Senoidal de frecuencia f0=k0∗fS   /   N=k0.Δf\n",
    "\n",
    "potencia normalizada, es decir energía (o varianza) unitaria\n",
    "Se pide:\n",
    "\n",
    "a) Sea k0:\n",
    "\n",
    "-N4\n",
    " \n",
    "-N4+0.25\n",
    " \n",
    "-N4+0.5\n",
    " \n",
    "Notar que a cada senoidal se le agrega una pequeña desintonía respecto a  Δf. Graficar las tres densidades espectrales de potencia (PDS's) y discutir cuál es el efecto de dicha desintonía en el espectro visualizado."
   ]
  },
  {
   "cell_type": "markdown",
   "id": "abe8829c-187d-47b1-a150-814c069eedf9",
   "metadata": {},
   "source": [
    "## DEFINO SENAL A ANALIZAR Y PARAMETROS "
   ]
  },
  {
   "cell_type": "code",
   "execution_count": 1,
   "id": "187cc6b1-c20a-4a14-8ae1-bc5fbb7465a3",
   "metadata": {},
   "outputs": [],
   "source": [
    "import numpy as np\n",
    "import matplotlib.pyplot as plt \n",
    "from numpy.fft import fft\n",
    "\n",
    "\n",
    "\n",
    "def sen(ff, nn, amp=1, dc=0, ph=0, fs=2):\n",
    "    N = np.arange(nn)\n",
    "    t = N/fs\n",
    "    x = dc + amp * np.sin(2 * np.pi * ff * t + ph)\n",
    "    return t, x\n",
    "\n",
    "\n",
    "# Parámetros\n",
    "N = 1000\n",
    "fs = N\n",
    "df = fs / N\n",
    "amp_unit = np.sqrt(2 / N)  # Amplitud para energía unitaria\n",
    "\n",
    "# Frecuencias\n",
    "k0_1 = N / 4\n",
    "k0_2 = N / 4 + 0.25\n",
    "k0_3 = N / 4 + 0.5\n",
    "\n",
    "f0_1 = k0_1 * df\n",
    "f0_2 = k0_2 * df\n",
    "f0_3 = k0_3 * df"
   ]
  },
  {
   "cell_type": "markdown",
   "id": "0fecc70b-ca47-4250-8c5a-45c3bd5ef38f",
   "metadata": {},
   "source": [
    "## GENERO LAS SENALES "
   ]
  },
  {
   "cell_type": "code",
   "execution_count": 2,
   "id": "b9d31eee-8f55-4121-99b5-a3a005915ec5",
   "metadata": {},
   "outputs": [],
   "source": [
    "# Generar señales\n",
    "t1, x1 = sen(ff=f0_1, nn=N, amp=amp_unit, fs=fs)\n",
    "t2, x2 = sen(ff=f0_2, nn=N, amp=amp_unit, fs=fs)\n",
    "t3, x3 = sen(ff=f0_3, nn=N, amp=amp_unit, fs=fs)"
   ]
  },
  {
   "cell_type": "markdown",
   "id": "cf1034f2-7ab4-43d3-a1b9-379cc08796a6",
   "metadata": {},
   "source": [
    "## CALCULO FFTS Y PSDS\n"
   ]
  },
  {
   "cell_type": "code",
   "execution_count": 3,
   "id": "28d891e8-964e-4a71-95af-9cb97cf94f5b",
   "metadata": {},
   "outputs": [],
   "source": [
    "# FFTs\n",
    "X1 = fft(x1)\n",
    "X2 = fft(x2)\n",
    "X3 = fft(x3)\n",
    "\n",
    "# PSDs\n",
    "PSD1 = (np.abs(X1)**2) / N\n",
    "PSD2 = (np.abs(X2)**2) / N\n",
    "PSD3 = (np.abs(X3)**2) / N"
   ]
  },
  {
   "cell_type": "markdown",
   "id": "28ec6cc5-35aa-4008-b9a2-95bf05a45e7d",
   "metadata": {},
   "source": [
    "## GRAFICO PARA POSTERIOR ANALISIS "
   ]
  },
  {
   "cell_type": "code",
   "execution_count": 4,
   "id": "58a81e49-f7f5-4fb5-a76a-ae5cca99cc21",
   "metadata": {},
   "outputs": [
    {
     "data": {
      "image/png": "[encoded data removed]",
      "text/plain": [
       "<Figure size 640x480 with 1 Axes>"
      ]
     },
     "metadata": {},
     "output_type": "display_data"
    }
   ],
   "source": [
    "freqs = np.arange(N) * df\n",
    "\n",
    "# Gráfico\n",
    "plt.figure()\n",
    "plt.plot(freqs, PSD1, 'x', label='k0 = N/4')\n",
    "plt.plot(freqs, PSD2, 'o', label='k0 = N/4 + 0.25')\n",
    "plt.plot(freqs, PSD3, 'X', label='k0 = N/4 + 0.5')\n",
    "plt.xlim([0, fs/2])\n",
    "plt.title('Densidad Espectral de Potencia (PSD)')\n",
    "plt.xlabel('Frecuencia (Hz)')\n",
    "plt.ylabel('Potencia')\n",
    "plt.legend()\n",
    "plt.show()"
   ]
  },
  {
   "cell_type": "markdown",
   "id": "fae4811b-66b1-4fe5-8572-dfe8eef121c7",
   "metadata": {},
   "source": [
    "Se generaron tres señales senoidales con frecuencia cercana  de la FFT (k₀ = N/4, N/4+0.25 y N/4+0.5), todas con energía unitaria. Al aplicar la FFT y calcular la Densidad Espectral de Potencia (PSD), se observó lo siguiente:\n",
    "- La señal con frecuencia exactamente  (k₀ = N/4) mostró un espectro limpio y concentrado, sin desparramo.\n",
    "- Las señales con frecuencias no alineadas  (k₀ + 0.25 y k₀ + 0.5) presentaron desparramo espectral, evidenciado por la dispersión de energía en múltiples bins.\n",
    "\n",
    "Este experimento demuestra cómo la alineación de la frecuencia  de la FFT afecta la precisión espectral, y destaca la importancia del ventaneo o interpolación para mejorar la resolución en casos no ideales."
   ]
  },
  {
   "cell_type": "markdown",
   "id": "75dbce30-cc37-49ea-822e-da9bb465d6b2",
   "metadata": {},
   "source": [
    "## CONSIGNA 2 \n",
    "\n",
    "Verificar la potencia unitaria de cada PSD, puede usar la identidad de Parseval. En base a la teoría estudiada. Discuta la razón por la cual una señal senoidal tiene un espectro tan diferente respecto a otra de muy pocos Hertz de diferencia. \n"
   ]
  },
  {
   "cell_type": "code",
   "execution_count": 5,
   "id": "5f6ef7ae-5e4e-4b25-bfcc-de7dc862d5c6",
   "metadata": {},
   "outputs": [
    {
     "name": "stdout",
     "output_type": "stream",
     "text": [
      "🔍 Verificación de Parseval:\n",
      "x1: Tiempo = 1.0000, Frecuencia = 1.0000\n",
      "x2: Tiempo = 0.9990, Frecuencia = 0.9990\n",
      "x3: Tiempo = 1.0000, Frecuencia = 1.0000\n"
     ]
    }
   ],
   "source": [
    "# Verificación de Parseval\n",
    "energia_x1 = np.sum(x1**2)\n",
    "energia_X1 = np.sum(np.abs(X1)**2) / N\n",
    "\n",
    "energia_x2 = np.sum(x2**2)\n",
    "energia_X2 = np.sum(np.abs(X2)**2) / N\n",
    "\n",
    "energia_x3 = np.sum(x3**2)\n",
    "energia_X3 = np.sum(np.abs(X3)**2) / N\n",
    "\n",
    "print(\"🔍 Verificación de Parseval:\")\n",
    "print(f\"x1: Tiempo = {energia_x1:.4f}, Frecuencia = {energia_X1:.4f}\")\n",
    "print(f\"x2: Tiempo = {energia_x2:.4f}, Frecuencia = {energia_X2:.4f}\")\n",
    "print(f\"x3: Tiempo = {energia_x3:.4f}, Frecuencia = {energia_X3:.4f}\")\n"
   ]
  },
  {
   "cell_type": "markdown",
   "id": "5189ae42-8528-4629-8b8d-e78f321e0243",
   "metadata": {},
   "source": [
    "- Esto demuestra que la FFT conserva la energía total de la señal, independientemente de su frecuencia.\n",
    "Esta verificación es fundamental para validar la correcta implementación de la FFT y garantiza que el análisis espectral refleja fielmente el contenido energético de las señales originales.\n"
   ]
  },
  {
   "cell_type": "markdown",
   "id": "3f165687-fb7d-450f-9c4a-2241e6f1a60e",
   "metadata": {},
   "source": [
    "## CONSIGNA 2 \n",
    "\n",
    " Repetir el experimento mediante la técnica de zero padding. Dicha técnica consiste en agregar ceros al final de la señal para aumentar Δf\n",
    " de forma ficticia. Probar agregando un vector de 9*N ceros al final. Discuta los resultados obtenidos."
   ]
  },
  {
   "cell_type": "code",
   "execution_count": 6,
   "id": "df2df8d4-8075-4d93-89b8-d57b42f4bbb5",
   "metadata": {},
   "outputs": [
    {
     "data": {
      "image/png": "[encoded data removed]",
      "text/plain": [
       "<Figure size 640x480 with 1 Axes>"
      ]
     },
     "metadata": {},
     "output_type": "display_data"
    }
   ],
   "source": [
    "# Zero padding: agregar 9*N ceros\n",
    "zeros = np.zeros(9 * N)\n",
    "\n",
    "x1_zp = np.concatenate([x1, zeros])\n",
    "x2_zp = np.concatenate([x2, zeros])\n",
    "x3_zp = np.concatenate([x3, zeros])\n",
    "\n",
    "N_zp = len(x1_zp)\n",
    "df_zp = fs / N_zp\n",
    "freqs_zp = np.arange(N_zp) * df_zp\n",
    "\n",
    "# FFTs con zero padding\n",
    "X1_zp = fft(x1_zp)\n",
    "X2_zp = fft(x2_zp)\n",
    "X3_zp = fft(x3_zp)\n",
    "\n",
    "# PSDs con zero padding\n",
    "PSD1_zp = (np.abs(X1_zp)**2) / N_zp\n",
    "PSD2_zp = (np.abs(X2_zp)**2) / N_zp\n",
    "PSD3_zp = (np.abs(X3_zp)**2) / N_zp\n",
    "\n",
    "# Gráfico\n",
    "plt.figure()\n",
    "plt.plot(freqs_zp, PSD1_zp, label='k0 = N/4')\n",
    "plt.plot(freqs_zp, PSD2_zp, label='k0 = N/4 + 0.25')\n",
    "plt.plot(freqs_zp, PSD3_zp, label='k0 = N/4 + 0.5')\n",
    "plt.xlim([0, fs/2])\n",
    "plt.title('PSD con Zero Padding')\n",
    "plt.xlabel('Frecuencia (Hz)')\n",
    "plt.ylabel('Potencia')\n",
    "plt.legend()\n",
    "plt.grid(True)\n",
    "plt.show()"
   ]
  },
  {
   "cell_type": "markdown",
   "id": "c8264dfd-e78c-4692-84df-51ec13b6adb1",
   "metadata": {},
   "source": [
    "La aplicación de zero padding (agregar 9×N ceros) a las señales permitió aumentar la resolución en el dominio de la frecuencia sin modificar el contenido espectral original. Esto se refleja en los siguientes puntos:\n",
    "- Se incrementó el número de muestras en la FFT, lo que redujo el espaciamiento entre frecuencias (\\Delta f), permitiendo una visualización más detallada del espectro.\n",
    "- Las señales con frecuencia no alineada  (k₀ + 0.25 y k₀ + 0.5) mostraron un perfil espectral más suave y definido, facilitando la identificación precisa de la frecuencia dominante.\n",
    "- Aunque el zero padding no mejora la resolución espectral real, sí mejora la interpolación visual del espectro, lo que es útil para análisis y presentación de resultados.\n",
    "Este procedimiento es especialmente útil cuando se desea estimar frecuencias inter-bin o mejorar la estética y claridad de los gráficos espectrales.\n"
   ]
  },
  {
   "cell_type": "code",
   "execution_count": null,
   "id": "cde75b18-3843-4af5-95b5-9e85c289c6ea",
   "metadata": {},
   "outputs": [],
   "source": []
  }
 ],
 "metadata": {
  "kernelspec": {
   "display_name": "Python 3 (ipykernel)",
   "language": "python",
   "name": "python3"
  },
  "language_info": {
   "codemirror_mode": {
    "name": "ipython",
    "version": 3
   },
   "file_extension": ".py",
   "mimetype": "text/x-python",
   "name": "python",
   "nbconvert_exporter": "python",
   "pygments_lexer": "ipython3",
   "version": "3.13.6"
  }
 },
 "nbformat": 4,
 "nbformat_minor": 5
}
